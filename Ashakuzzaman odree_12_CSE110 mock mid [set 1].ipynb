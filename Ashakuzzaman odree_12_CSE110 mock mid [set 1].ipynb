{
 "cells": [
  {
   "cell_type": "markdown",
   "metadata": {
    "colab_type": "text",
    "id": "0ZcT5c9CjT8P"
   },
   "source": [
    "# SUMMER 2020\n",
    "\n",
    "# CSE110 MOCK MID\n",
    "**<font color='red'>[MUST MAINTAIN VARIABLE NAMING CONVENTIONS FOR ALL THE TASKS]</font>**\n",
    "\n",
    "**<font color='red'>[Writing comments(explanatory sentences) in any of the code is completely optional]</font>**"
   ]
  },
  {
   "cell_type": "markdown",
   "metadata": {
    "colab_type": "text",
    "id": "hQCnOmw6iWER"
   },
   "source": [
    "# Task 01\n",
    "Write a python code that will take the midterm marks of CSE110 from the user and then print message accordingly.\n",
    "\n",
    "\n",
    "\n",
    "*   If the mark is between 0 and 10 inclusive, your program should print **\"Fail. You should retake the course.\"**\n",
    "*   If the mark is between 11 and 20 inclusive, your program should print **\"Not satisfactory. Try harder to do better.\"**\n",
    "\n",
    "*   If the mark is between 21 and 30 inclusive, your program should print **\"Satisfactory. Try to clear all confusion before final.\"**\n",
    "*   For all other input your program should print **\"Invalid marks\"**.\n",
    "\n",
    "\n",
    " ================================\n",
    "\n",
    "**Sample input 1:**\\\n",
    "16\n",
    "\n",
    "**Sample output 1:**\\\n",
    "Not satisfactory. Try harder to do better\n",
    "\n",
    " ================================\n",
    "\n",
    "**Sample input 2:**\\\n",
    "31\n",
    "\n",
    "**Sample output 2:**\\\n",
    "Invalid marks"
   ]
  },
  {
   "cell_type": "code",
   "execution_count": 14,
   "metadata": {
    "colab": {},
    "colab_type": "code",
    "id": "P0vIwmbeiWEU"
   },
   "outputs": [
    {
     "name": "stdout",
     "output_type": "stream",
     "text": [
      "Enter your mid exam number: 31\n",
      "invalid marks\n"
     ]
    }
   ],
   "source": [
    "mark = int(input('Enter your mid exam number: '))\n",
    "if mark>=0 and mark <=10:\n",
    "    print('Fail. You should retake in the cours.')\n",
    "elif mark>=11 and mark<=20:\n",
    "    print('Not satisfactory.try hard to do better.')\n",
    "elif mark>=21 and mark <=30:\n",
    "    print('setisfactory.try to clear all confudion befor final.')\n",
    "else:\n",
    "    print('invalid marks')"
   ]
  },
  {
   "cell_type": "markdown",
   "metadata": {
    "colab_type": "text",
    "id": "zUyYKkWViWEd"
   },
   "source": [
    "# Task 02\n",
    "Take an integer number from the user and then print the  **largest digit** of that number.\n",
    "\n",
    "<font color='red'>[You are not allowed to use the max(), min(), sort(), sorted() functions here]</font>\n",
    "\n",
    "**Hint :**\\\n",
    "You may assume that the input number is a non negative number.\n",
    "\n",
    " ================================\n",
    "\n",
    "**Sample input 1:**\\\n",
    "42375\\\n",
    "**Sample output 1:**\\\n",
    "7\\\n",
    "*Exxplaination: 7 is the largest digit in 42375*\n",
    " \n",
    "  ================================\n",
    "\n",
    "**Sample input 2:**\\\n",
    "60301\\\n",
    "**Sample output 2:**\\\n",
    "6\\\n",
    "*Explaination: 6 is the largest digit in 60301*\n",
    "\n"
   ]
  },
  {
   "cell_type": "code",
   "execution_count": 10,
   "metadata": {
    "colab": {},
    "colab_type": "code",
    "id": "_oEJ6XwgiWEh"
   },
   "outputs": [
    {
     "name": "stdout",
     "output_type": "stream",
     "text": [
      "enter your favorite numbers: 60301\n",
      "6\n",
      "Explaination: 6 is the largest digit 60301\n"
     ]
    }
   ],
   "source": [
    "#task 2\n",
    "#to do\n",
    "fav_num =(input('enter your favorite numbers: '))\n",
    "list =[]\n",
    "index =0\n",
    "if int(fav_num)>0:\n",
    "    for i in fav_num:\n",
    "        list.append(int(i))\n",
    "    maximum = -100\n",
    "    for j in list:\n",
    "        if j>maximum:\n",
    "            maximum =j\n",
    "    print(maximum)\n",
    "print('Explaination:',maximum,'is the largest digit',fav_num)"
   ]
  },
  {
   "cell_type": "markdown",
   "metadata": {
    "colab_type": "text",
    "id": "CEhXrQIhiWEo"
   },
   "source": [
    "# Task 03\n",
    "Write the python code that takes a String from the user and print all the **lowercase letters** of that string. \n",
    "\n",
    "**Hint :**\\\n",
    "You might need to use ASCII values for checking upper cases and lower cases.\n",
    " \n",
    "  ================================\n",
    " \n",
    "**Sample input 1:**\\\n",
    "I Want To go to the UNIVERSITY\n",
    "\n",
    "**Sample output 1:**\\\n",
    "antogotothe\n",
    " \n",
    "  ================================\n",
    "\n",
    "**Sample input 2:**\\\n",
    "cse110 is greEAT\n",
    "\n",
    "**Sample output 2:**\\\n",
    "cseisgre"
   ]
  },
  {
   "cell_type": "code",
   "execution_count": 11,
   "metadata": {
    "colab": {},
    "colab_type": "code",
    "id": "gWQIR06LiWEp"
   },
   "outputs": [
    {
     "name": "stdout",
     "output_type": "stream",
     "text": [
      "Enter your favorite sentence: cse110 is greEAT\n",
      "cseisgre"
     ]
    }
   ],
   "source": [
    "#task 3\n",
    "#to do\n",
    "sentence = input('Enter your favorite sentence: ')\n",
    "for i in sentence:\n",
    "    if ord(i) >=97 and ord(i)<=122:\n",
    "        print(i,end='')"
   ]
  },
  {
   "cell_type": "code",
   "execution_count": null,
   "metadata": {},
   "outputs": [],
   "source": []
  }
 ],
 "metadata": {
  "colab": {
   "name": "CSE110 mock mid [set 1].ipynb",
   "provenance": []
  },
  "kernelspec": {
   "display_name": "Python 3",
   "language": "python",
   "name": "python3"
  },
  "language_info": {
   "codemirror_mode": {
    "name": "ipython",
    "version": 3
   },
   "file_extension": ".py",
   "mimetype": "text/x-python",
   "name": "python",
   "nbconvert_exporter": "python",
   "pygments_lexer": "ipython3",
   "version": "3.7.6"
  }
 },
 "nbformat": 4,
 "nbformat_minor": 1
}
