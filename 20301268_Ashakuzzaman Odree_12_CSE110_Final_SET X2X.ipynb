{
 "cells": [
  {
   "cell_type": "markdown",
   "metadata": {
    "colab_type": "text",
    "id": "FHoSAZwz-x9Y"
   },
   "source": [
    "# SUMMER 2020\n",
    "\n",
    "# CSE110 FINAL EXAM\n",
    "**<font color='red'>[MUST MAINTAIN VARIABLE NAMING CONVENTIONS FOR ALL THE TASKS]</font>**\n",
    "\n",
    "**<font color='red'>[Writing comments(explanatory sentences) in any of the code is completely optional]</font>**"
   ]
  },
  {
   "cell_type": "markdown",
   "metadata": {
    "colab_type": "text",
    "id": "y1OxALe74ONI"
   },
   "source": [
    "# Task 01\n",
    "\n",
    "Take an input from the user, N,  and that input signifies the number of inputs to be taken further from the user. Then take N number of integer inputs from the user. Then you have to calculate the following of these from the N integer inputs.\n",
    "\n",
    "<font color='red'> [You are not allowed to use the sum(), max(), min(), mean() functions]</font>\n",
    "\n",
    "<font color='red'> [You are allowed to use the count() function]</font>\n",
    "\n",
    "* Range (Highest Value - Lowest Value)\n",
    "* Mean (Sum of all values/Number of Values)\n",
    "* Mode (Highest occurring number in the N integer inputs )\n",
    "\n",
    "\n",
    "===========================================================\n",
    "\n",
    "**Sample Input 1 :**\\\n",
    "5\\\n",
    "1 2 2 3 4 \n",
    "\n",
    "**Sample Output**\\\n",
    "Range = 3 \n",
    "\n",
    "Mean = 2.4\n",
    "\n",
    "Mode = 2\n",
    "\n",
    "**Explanation:** \n",
    "Here, the maximum number is 4, minimum number is 1. Range = max-min=4-1=3. Mean = (sum of all the numbers)/total count of numbers = (1+2+2+3+4)/5 = 12/5 = 2.4. Lastly, 2 has occured maximum of 2 times. Hence, the mode is 2.\n",
    "\n",
    "\n",
    "=============================================================\n",
    "\n",
    "\n",
    "\n",
    "**Sample Input 1 :**\\\n",
    "2\\\n",
    "1\n",
    "1 \n",
    "\n",
    "**Sample Output**\\\n",
    "Range = 0\n",
    "\n",
    "Mean = 1.0\n",
    "\n",
    "Mode = 2\n",
    "\n",
    "**Explanation:** \n",
    "Here, the maximum number is 1, minimum number is 1. Range = max-min=1-1=0. Mean = (sum of all the numbers)/total count of numbers = (2)/2 = 1.0 . Lastly, 1 has occured maximum of 2 times. Hence, the mode is 2.\n",
    "\n",
    "\n",
    "\n",
    "\n",
    "\n",
    "\n",
    "\n"
   ]
  },
  {
   "cell_type": "code",
   "execution_count": 1,
   "metadata": {},
   "outputs": [
    {
     "name": "stdout",
     "output_type": "stream",
     "text": [
      "enter the number: 5\n",
      "1 2 2 3 4\n",
      "\n",
      "Range:  3\n",
      "\n",
      "Mean:  2.4\n",
      "\n",
      "Mode:  2\n"
     ]
    }
   ],
   "source": [
    "#task 1\n",
    "#to do\n",
    "a_num =int(input('enter the number: '))\n",
    "lst = input().split()[:a_num]\n",
    "maxi = int(lst[0])\n",
    "mini = int(lst[0])\n",
    "sum=0\n",
    "mode=0\n",
    "newlst =[]\n",
    "Dict={}\n",
    "for i in lst:\n",
    "    i=int(i)\n",
    "    if i>maxi:\n",
    "        maxi=i\n",
    "    elif i<mini:\n",
    "        mini=i\n",
    "    sum+=i\n",
    "maxcount=0\n",
    "for i in lst:\n",
    "    if i not in Dict.keys():\n",
    "        Dict[i]=1\n",
    "        count=1\n",
    "    else :\n",
    "        Dict[i]+=1\n",
    "        count+=1\n",
    "    if count>maxcount:\n",
    "        maxcount=count\n",
    "for keys,values in Dict.items():\n",
    "    if Dict[keys]==maxcount:\n",
    "        mode=keys\n",
    "        \n",
    "print()\n",
    "print(\"Range: \",maxi-mini)\n",
    "print()\n",
    "print('Mean: ',sum/a_num)\n",
    "print()\n",
    "print('Mode: ',mode)"
   ]
  },
  {
   "cell_type": "code",
   "execution_count": null,
   "metadata": {},
   "outputs": [],
   "source": []
  },
  {
   "cell_type": "markdown",
   "metadata": {
    "colab_type": "text",
    "id": "VOjcZp3h6N7Z"
   },
   "source": [
    "# Task 02\n",
    "\n",
    "Write a Python program that takes a string as an input from the user. Then, counts the sum of the frequency of only three characters (‘C’, ‘S’, ‘E’) and counts the sum of the frequency all the characters excluding 'C', 'S', 'E', and any white spaces. Then prints the ratio of these two sums. \\\n",
    "<font color='red'> [You are not allowed to use the count() function]</font>\n",
    "\n",
    "\n",
    "*Hint: The case is ignored (P and p are considered the same).* \n",
    "\n",
    "\n",
    "===========================================================\n",
    "\n",
    "**Example1:**\n",
    "\n",
    "**Input:**\\\n",
    "\"This is my CSE110 final exam\"\n",
    "\n",
    "**Output:**\\\n",
    "The sum of the frequency of 'C', 'S', 'E': 6\\\n",
    "Letters excluding 'C', 'S', 'E' and space is: 17\\\n",
    "The ratio is: 2.8333333333333335\n",
    "\n",
    "**Explanation:** \\\n",
    "Here in the input string, ‘c’ has appeared 1 times, ‘e’ has appeared 2 times and ‘s’ has appeared 3 times. So, the sum of the frequency of 'C', 'S', 'E': 1+2+3= 6. Letters excluding 'C','S','E', and space are: 17.\\\n",
    "So the ratio is (sum of letters excluding 'C','S','E' and space)/( sum of the frequency of 'C','S','E')= 17/6= 2.8333333333333335\n",
    "\n",
    "==============================================================================\n",
    "\n",
    "**Example2:** \\\n",
    "Input:   \"There is no courage without the fear.\"\n",
    "\n",
    "**Output:** \\\n",
    "The sum of the frequency of 'C', 'S', 'E': 7\\\n",
    "Letters excluding 'C', 'S', 'E' and space is: 24\\\n",
    "The ratio is: 3.4285714285714284\n",
    "\n",
    "**Explanation:** \\\n",
    "Here in the input string, ‘c’ has appeared 1 time, ‘e’ has appeared 5 times and ‘s’ has appeared 1 time. So, the sum of the frequency of 'C', 'S', 'E': 1+5+1=7. Letters excluding 'C','S','E', and space are: 24. So the ratio is (sum of letters excluding 'C','S','E' and space)/( sum of the frequency of 'C','S','E')= 24/7= 3.4285714285714284\n",
    "\n"
   ]
  },
  {
   "cell_type": "code",
   "execution_count": 32,
   "metadata": {},
   "outputs": [
    {
     "name": "stdout",
     "output_type": "stream",
     "text": [
      "string:There is no courage without the fear.\n",
      "The sum of the frequency of 'C','S','E': 7\n",
      "Letters excluding 'C','S','E' and space is:  24\n",
      "The ratio is: 3.4285714285714284\n",
      "7\n",
      "6\n",
      "37\n"
     ]
    }
   ],
   "source": [
    "#to do\n",
    "sentence = input(\"string:\")\n",
    "count=0\n",
    "index=0\n",
    "for i in sentence:\n",
    "    if(i==\"c\" or i ==\"s\" or i == \"e\" or i==\"C\" or i==\"S\" or i==\"E\"):\n",
    "        count+=1\n",
    "    if \" \" in i:\n",
    "        index+=1\n",
    "a = len(sentence)-(count+index)        \n",
    "print(\"The sum of the frequency of 'C','S','E':\",count)\n",
    "print(\"Letters excluding 'C','S','E' and space is: \",a)\n",
    "print(\"The ratio is:\",(a/count))\n",
    "print(count)\n",
    "print(index)\n",
    "print(len(sentence))"
   ]
  },
  {
   "cell_type": "markdown",
   "metadata": {
    "colab_type": "text",
    "id": "punAKiNF87E8"
   },
   "source": [
    "# Task 03\n",
    "\n",
    "\n",
    "Write a function which takes in a dictionary as an input. The keys will be the name of the courses that you had taken in the previous semester. It can be any number of courses but it will always be more than 3. And the corresponding values will be the total marks that you had got out of 100. The values can never be negative. Now calculate the average mark that you had achieved in the last semester. Your function will **return** the string “Highest distinction” or “High Distinction” or “No Distinction” based on the calculated average mark. What string will be returned will be based on the following criteria:\n",
    "\n",
    "* Condition 1 : If  80 <= average marks <= 100 , return \"Highest Distinction\"\n",
    "* Condition 2 : If  50 <= average marks <= 79 , return \"High Distinction\"\n",
    "* Condition 3 : If  0 <= average marks <= 49 , return \"No Distinction\"\n",
    "\n",
    "\n",
    "===========================================================\n",
    "\n",
    "\n",
    "**Example1:** \n",
    "\n",
    "**Input1:**<br>\n",
    "{'Bangla' : 90, 'English' : 90, 'Mathematics' : 94, 'Science' : 96 }\n",
    "\n",
    "**Function Call1:**\n",
    "Avg_Marks( {'Bangla' : 90, 'English' : 90, 'Mathematics' : 96, 'Science' : 96 } )\n",
    "\n",
    "**Output1:** \\\n",
    "Highest Distinction\n",
    "\n",
    "**Explanation1:** <br> \n",
    "Here, you had taken 4 courses in the previous semester and they are Bangla, English, Mathematics and Science. Out of a total 100 in each subject, you scored 90 in Bangla, 90 in English, 96 in Mathematics and 96 in Science. So the average mark of these 4 courses is 93. As the average mark satisfies Condition 1, that is the average is greater than or equal to 80 and less than or equal to 100, so the function will return the string \"Highest Distinction\".     \n",
    "\n",
    "===========================================================\n",
    "\n",
    "**Example2:** \n",
    "\n",
    "**Input2:**<br>\n",
    "{'Bangla' : 20, 'English' : 30, 'Mathematics' : 50, 'Science' : 30 }\n",
    "\n",
    "**Function Call1:**   \n",
    "Avg_Marks( {'Bangla' : 20, 'English' : 30, 'Mathematics' : 50, 'Science' : 30 } )\n",
    "\n",
    "**Output2:** \\\n",
    "\"No Distinction\"\n",
    "\n",
    "**Explanation2:** <br> \n",
    "Here suppose you had taken 4 courses in the previous semester and they are Bangla, English, Mathematics and Science. Out of a total 100 in each subject, you scored 20 in Bangla, 30 in English, 50 in Mathematics and 30 in Science. So the average mark of these 4 courses is 32.5. As the average mark satisfies Condition 3, so the function will return the string \"No Distinction\". \n",
    "\n",
    "\n",
    "===========================================================\n",
    "\n",
    "**Hint:** Average = sum of all the course marks / total number of courses"
   ]
  },
  {
   "cell_type": "code",
   "execution_count": 20,
   "metadata": {},
   "outputs": [
    {
     "name": "stdout",
     "output_type": "stream",
     "text": [
      "enter the number of subject:4\n",
      "enter subject name:Bangla\n",
      "enter subject marks:90\n",
      "enter subject name:Eng\n",
      "enter subject marks:90\n",
      "enter subject name:mat\n",
      "enter subject marks:96\n",
      "enter subject name:sci\n",
      "enter subject marks:96\n"
     ]
    },
    {
     "ename": "UnboundLocalError",
     "evalue": "local variable 'avg_marks' referenced before assignment",
     "output_type": "error",
     "traceback": [
      "\u001b[1;31m---------------------------------------------------------------------------\u001b[0m",
      "\u001b[1;31mUnboundLocalError\u001b[0m                         Traceback (most recent call last)",
      "\u001b[1;32m<ipython-input-20-f41c5461397f>\u001b[0m in \u001b[0;36m<module>\u001b[1;34m\u001b[0m\n\u001b[0;32m     17\u001b[0m     \u001b[0mval\u001b[0m\u001b[1;33m=\u001b[0m\u001b[0mint\u001b[0m\u001b[1;33m(\u001b[0m\u001b[0minput\u001b[0m\u001b[1;33m(\u001b[0m\u001b[1;34m'enter subject marks:'\u001b[0m\u001b[1;33m)\u001b[0m\u001b[1;33m)\u001b[0m\u001b[1;33m\u001b[0m\u001b[1;33m\u001b[0m\u001b[0m\n\u001b[0;32m     18\u001b[0m \u001b[1;33m\u001b[0m\u001b[0m\n\u001b[1;32m---> 19\u001b[1;33m \u001b[0mprint\u001b[0m\u001b[1;33m(\u001b[0m\u001b[0mavg_marks\u001b[0m\u001b[1;33m(\u001b[0m\u001b[0mall_subject_marks\u001b[0m\u001b[1;33m)\u001b[0m\u001b[1;33m)\u001b[0m\u001b[1;33m\u001b[0m\u001b[1;33m\u001b[0m\u001b[0m\n\u001b[0m",
      "\u001b[1;32m<ipython-input-20-f41c5461397f>\u001b[0m in \u001b[0;36mavg_marks\u001b[1;34m(all_subject_marks)\u001b[0m\n\u001b[0;32m      5\u001b[0m         \u001b[0mtotal\u001b[0m\u001b[1;33m=\u001b[0m\u001b[0mtotal\u001b[0m\u001b[1;33m+\u001b[0m\u001b[0mmarks\u001b[0m\u001b[1;33m\u001b[0m\u001b[1;33m\u001b[0m\u001b[0m\n\u001b[0;32m      6\u001b[0m         \u001b[0mavg_marks\u001b[0m\u001b[1;33m=\u001b[0m\u001b[0mtotal\u001b[0m\u001b[1;33m/\u001b[0m\u001b[0mno_of_subject\u001b[0m\u001b[1;33m\u001b[0m\u001b[1;33m\u001b[0m\u001b[0m\n\u001b[1;32m----> 7\u001b[1;33m     \u001b[1;32mif\u001b[0m \u001b[0mavg_marks\u001b[0m\u001b[1;33m>=\u001b[0m\u001b[1;36m80\u001b[0m \u001b[1;32mand\u001b[0m \u001b[0mavg_marks\u001b[0m\u001b[1;33m<=\u001b[0m\u001b[1;36m100\u001b[0m\u001b[1;33m:\u001b[0m\u001b[1;33m\u001b[0m\u001b[1;33m\u001b[0m\u001b[0m\n\u001b[0m\u001b[0;32m      8\u001b[0m         \u001b[1;32mreturn\u001b[0m \u001b[1;34m\"Highest Distinction\"\u001b[0m\u001b[1;33m\u001b[0m\u001b[1;33m\u001b[0m\u001b[0m\n\u001b[0;32m      9\u001b[0m     \u001b[1;32melif\u001b[0m \u001b[0mavg_marks\u001b[0m\u001b[1;33m>=\u001b[0m\u001b[1;36m50\u001b[0m \u001b[1;32mand\u001b[0m \u001b[0mavg_marks\u001b[0m\u001b[1;33m<=\u001b[0m\u001b[1;36m79\u001b[0m\u001b[1;33m:\u001b[0m\u001b[1;33m\u001b[0m\u001b[1;33m\u001b[0m\u001b[0m\n",
      "\u001b[1;31mUnboundLocalError\u001b[0m: local variable 'avg_marks' referenced before assignment"
     ]
    }
   ],
   "source": [
    "def avg_marks(all_subject_marks):\n",
    "    total=0\n",
    "    no_of_subject=len(all_subject_marks)\n",
    "    for marks in all_subject_marks.values():\n",
    "        total=total+marks\n",
    "        avg_marks=total/no_of_subject\n",
    "    if avg_marks>=80 and avg_marks<=100:\n",
    "        return \"Highest Distinction\"\n",
    "    elif avg_marks>=50 and avg_marks<=79:\n",
    "        return \"Highest Distinction\"\n",
    "    elif avg_marks>=0 and avg_marks<=49:\n",
    "        return \"No Distinction\"\n",
    "no_of_subjects= int(input('enter the number of subject:'))\n",
    "all_subject_marks={}\n",
    "for i in range(no_of_subjects):\n",
    "    key = input('enter subject name:')\n",
    "    val=int(input('enter subject marks:'))\n",
    "    all_subject_marks[key] = val\n",
    "print(avg_marks(all_subject_marks))"
   ]
  },
  {
   "cell_type": "code",
   "execution_count": 19,
   "metadata": {},
   "outputs": [
    {
     "name": "stdout",
     "output_type": "stream",
     "text": [
      "enter number of enlement: 2\n",
      "enter the key: a\n",
      "enter the values: 3\n",
      "enter the key: s\n",
      "enter the values: 3\n",
      "{'a': 3, 's': 3}\n",
      "6\n"
     ]
    }
   ],
   "source": [
    "dict1={}\n",
    "count =0\n",
    "sum =0\n",
    "num = int(input('enter number of enlement: '))\n",
    "for i in range(num):\n",
    "    key = input('enter the key: ')\n",
    "    value = int(input('enter the values: '))\n",
    "    dict1.update({key:value})\n",
    "print(dict1)\n",
    "for j in dict1.values():\n",
    "    sum = sum + j\n",
    "    count+= 1\n",
    "print(sum)"
   ]
  },
  {
   "cell_type": "code",
   "execution_count": 29,
   "metadata": {},
   "outputs": [
    {
     "name": "stdout",
     "output_type": "stream",
     "text": [
      "enter the range: 3\n",
      "1\n",
      "12\n",
      "123\n"
     ]
    }
   ],
   "source": [
    "def show_triangle(x):\n",
    "    for row in range(1,x+1):\n",
    "        for cal in range(1,row+1):\n",
    "            print(cal, end =\"\")\n",
    "            \n",
    "        print()\n",
    "\n",
    "show_triangle(int(input('enter the range: ')))    "
   ]
  },
  {
   "cell_type": "code",
   "execution_count": 6,
   "metadata": {},
   "outputs": [
    {
     "name": "stdout",
     "output_type": "stream",
     "text": [
      "enter a sentence:kjdfoej ej\n",
      "4\n"
     ]
    }
   ],
   "source": [
    "st = input('enter a sentence:')\n",
    "count =0\n",
    "for i in st:\n",
    "    if i=='j' or i=='t' or i=='k':\n",
    "        count+=1\n",
    "print(count)"
   ]
  },
  {
   "cell_type": "code",
   "execution_count": null,
   "metadata": {},
   "outputs": [],
   "source": []
  }
 ],
 "metadata": {
  "colab": {
   "collapsed_sections": [],
   "name": "SET X2X.ipynb",
   "provenance": []
  },
  "kernelspec": {
   "display_name": "Python 3",
   "language": "python",
   "name": "python3"
  },
  "language_info": {
   "codemirror_mode": {
    "name": "ipython",
    "version": 3
   },
   "file_extension": ".py",
   "mimetype": "text/x-python",
   "name": "python",
   "nbconvert_exporter": "python",
   "pygments_lexer": "ipython3",
   "version": "3.7.6"
  }
 },
 "nbformat": 4,
 "nbformat_minor": 1
}
