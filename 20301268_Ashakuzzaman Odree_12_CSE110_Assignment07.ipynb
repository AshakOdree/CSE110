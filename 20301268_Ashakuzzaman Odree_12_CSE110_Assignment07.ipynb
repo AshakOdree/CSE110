{
 "cells": [
  {
   "cell_type": "markdown",
   "metadata": {
    "colab_type": "text",
    "id": "oMYzsTcnHEll"
   },
   "source": [
    "# CSE110 Assignment 7\n",
    "\n",
    "\n",
    "## Write the Python code of the following problems:\n",
    "**<font color='red'>[MUST MAINTAIN VARIABLE NAMING CONVENTIONS FOR ALL THE TASKS]</font>**"
   ]
  },
  {
   "cell_type": "markdown",
   "metadata": {
    "colab_type": "text",
    "id": "jT-t2zlnHEll"
   },
   "source": [
    "### Task 1\n",
    "\n",
    "Given a list named my_list. <br/>\n",
    "my_list=[10,1,20,3,6,2,5,11,15,2,12,14,17,18,29] <br/>\n",
    "Now use bubble sort to sort my_list into ascending order.\n",
    "\n",
    "**Output**<br/>\n",
    "[1, 2, 2, 3, 5, 6, 10, 11, 12, 14, 15, 17, 18, 20, 29]"
   ]
  },
  {
   "cell_type": "code",
   "execution_count": 7,
   "metadata": {},
   "outputs": [
    {
     "name": "stdout",
     "output_type": "stream",
     "text": [
      "[1, 2, 2, 3, 5, 6, 10, 11, 12, 14, 15, 17, 18, 20, 29]\n"
     ]
    }
   ],
   "source": [
    "my_list=[10,1,20,3,6,2,5,11,15,2,12,14,17,18,29]\n",
    "for i in range(len(my_list)-1):\n",
    "    for j in range(len(my_list)-1):\n",
    "        if my_list[j]>my_list[j+1]:\n",
    "            temp=my_list[j]\n",
    "            my_list[j]=my_list[j+1]\n",
    "            my_list[j+1]=temp\n",
    "print(my_list)           "
   ]
  },
  {
   "cell_type": "markdown",
   "metadata": {
    "colab_type": "text",
    "id": "w1QgeWd2HElp"
   },
   "source": [
    "### Task 2\n",
    "\n",
    "Given a list named my_list. <br/>\n",
    "my_list=[10,1,20,3,6,2,5,11,15,2,12,14,17,18,29] <br/>\n",
    "Now use selection sort to sort my_list into ascending order.\n",
    "\n",
    "**Output**<br/>\n",
    "[1, 2, 2, 3, 5, 6, 10, 11, 12, 14, 15, 17, 18, 20, 29]\n",
    "\n"
   ]
  },
  {
   "cell_type": "code",
   "execution_count": 4,
   "metadata": {
    "colab": {},
    "colab_type": "code",
    "id": "am0B_8ICHElq"
   },
   "outputs": [
    {
     "name": "stdout",
     "output_type": "stream",
     "text": [
      "[1, 2, 2, 3, 5, 6, 10, 11, 12, 14, 15, 17, 18, 20, 29]\n"
     ]
    }
   ],
   "source": [
    "def selection_sort(arr):\n",
    "\n",
    "\n",
    "    for idx in range(len(arr)):\n",
    "        min=arr[idx]\n",
    "        min_idx=idx\n",
    "        for j in range(idx+1,len(arr)):\n",
    "            if arr[j]<min:\n",
    "                min=arr[j]\n",
    "                min_idx=j\n",
    "        temp=arr[min_idx]\n",
    "        arr[min_idx]=arr[idx]\n",
    "        arr[idx]=temp\n",
    "\n",
    "    return arr\n",
    "\n",
    "number=[10,1,20,3,6,2,5,11,15,2,12,14,17,18,29]\n",
    "sorted_numbers=selection_sort(number)\n",
    "print(sorted_numbers)"
   ]
  },
  {
   "cell_type": "markdown",
   "metadata": {
    "colab_type": "text",
    "id": "j4ffr2CAHElt"
   },
   "source": [
    "### Task  3\n",
    "\n",
    "Given a list named my_list. <br/>\n",
    "my_list=[10,1,20,3,6,2,5,11,15,2,12,14,17,18,29] <br/>\n",
    "Now use any of the two sorts used above to sort the list in descending order.\n",
    "\n",
    "**Output**<br/>\n",
    "[29, 20, 18, 17, 15, 14, 12, 11, 10, 6, 5, 3, 2, 2, 1]\n"
   ]
  },
  {
   "cell_type": "code",
   "execution_count": 6,
   "metadata": {},
   "outputs": [
    {
     "name": "stdout",
     "output_type": "stream",
     "text": [
      "[29, 20, 18, 17, 15, 14, 12, 11, 10, 6, 5, 3, 2, 2, 1]\n"
     ]
    }
   ],
   "source": [
    "def selection_sort(arr):\n",
    "\n",
    "\n",
    "    for idx in range(len(arr)):\n",
    "        max=arr[idx]\n",
    "        max_idx=idx\n",
    "        for j in range(idx+1,len(arr)):\n",
    "            if arr[j]>max:\n",
    "                max=arr[j]\n",
    "                max_idx=j\n",
    "        temp=arr[max_idx]\n",
    "        arr[max_idx]=arr[idx]\n",
    "        arr[idx]=temp\n",
    "\n",
    "    return arr\n",
    "\n",
    "number=[10,1,20,3,6,2,5,11,15,2,12,14,17,18,29]\n",
    "sorted_numbers=selection_sort(number)\n",
    "print(sorted_numbers)"
   ]
  },
  {
   "cell_type": "markdown",
   "metadata": {
    "colab_type": "text",
    "id": "9iYiiTWWHElw"
   },
   "source": [
    "### Task 4\n",
    "\n",
    "Suppose you have a sitting arrangement of the students of the final exam in a list. The list contains the last two digits of their roll number.<br/>\n",
    "\n",
    "sitting_list=[10,30,20,70,11,15,22,16,58,100,12,56,70,80] <br/>\n",
    "\n",
    "Now you want to organize the sitting arrangement. You decided to sort all the students in the even indices into ascending order and all the students in the odd indices  into descending order.  <br/>\n",
    "\n",
    "So write a python program that organizes the list for you the way you decided.<br/>\n",
    "\n",
    "\n",
    "**Sample Output**<br/>\n",
    "[10, 100, 11, 80, 12, 70, 20, 56, 22, 30, 58, 16, 70, 15]"
   ]
  },
  {
   "cell_type": "code",
   "execution_count": 4,
   "metadata": {
    "colab": {},
    "colab_type": "code",
    "id": "nPdUAKDJHElw"
   },
   "outputs": [
    {
     "name": "stdout",
     "output_type": "stream",
     "text": [
      "[10, 100, 11, 80, 12, 70, 20, 56, 22, 30, 58, 16, 70, 15]\n"
     ]
    }
   ],
   "source": [
    "sitting_list=[10,30,20,70,11,15,22,16,58,100,12,56,70,80]\n",
    "\n",
    "for i in range(0,len(sitting_list),1):\n",
    "    for j in range(0,len(sitting_list)-2):\n",
    "        \n",
    "        if sitting_list[j]<sitting_list[j+2] and j%2!=0:\n",
    "            temp=sitting_list[j]\n",
    "            sitting_list[j]=sitting_list[j+2]\n",
    "            sitting_list[j+2]=temp\n",
    "\n",
    "        elif sitting_list[j]>sitting_list[j+2] and j%2==0:\n",
    "            temp=sitting_list[j]\n",
    "            sitting_list[j]=sitting_list[j+2]\n",
    "            sitting_list[j+2]=temp\n",
    "            \n",
    "        else:\n",
    "            pass\n",
    "        \n",
    "print(my_list)"
   ]
  },
  {
   "cell_type": "markdown",
   "metadata": {
    "colab_type": "text",
    "id": "oVR1Tsa0HElz"
   },
   "source": [
    "### Task 5\n",
    "\n",
    "Suppose a list contains the final exam results of CSE110, PHY111, and MAT110 of each student in a listed form. Your task is to sort the list based on a course name that will be given by the user and print the names after sorting. <br/>\n",
    "\n",
    "For example, a list looks like <br/>\n",
    "Lst = [ [‘Farzad’,95,87,91] , [‘Mahjabin’,92,90,83], [‘Sadman’,87,92,80], [‘Nakhla’,85,94,90] ] <br/>\n",
    "where for each list, 1st index is name, 2nd index is CSE110, 3rd index is PHY111 and 4th index is MAT110. \n",
    "\n",
    "**Sample Input**<br/>\n",
    "MAT110\n",
    "\n",
    "**Sample Output**<br/>\n",
    "Farzad <br/>\n",
    "Nakhla <br/>\n",
    "Mahjabin <br/>\n",
    "Sadman\n",
    "\n",
    "**Hint:**<br/>\n",
    "Nested list can be accessed by listname[firstIndex][secondIndex] like lst[0][0] will give Farzad\n"
   ]
  },
  {
   "cell_type": "code",
   "execution_count": 10,
   "metadata": {
    "colab": {
     "base_uri": "https://localhost:8080/",
     "height": 121
    },
    "colab_type": "code",
    "id": "539b2P1NHElz",
    "outputId": "85bbe35d-0420-4494-eaa4-c43eb0b32a8c"
   },
   "outputs": [
    {
     "name": "stdout",
     "output_type": "stream",
     "text": [
      "Enter course name:  PHY111\n",
      "['94', '92', '90', '87']\n",
      "Nakhla\n",
      "Sadman\n",
      "Mahjabin\n",
      "Farzad\n"
     ]
    }
   ],
   "source": [
    "def sort(num_list):\n",
    "    name=input('Enter course name:  ')\n",
    "    list=['CSE110', 'PHY111','MAT110' ]\n",
    "    new = []\n",
    "    if name==list[0]:\n",
    "        for i in range(len(num_list)):\n",
    "            new.append(num_list[i][1])\n",
    "            \n",
    "    elif name==list[1]:\n",
    "        for i in range(len(num_list)):\n",
    "            new.append(num_list[i][2])\n",
    "            \n",
    "    elif name==list[2]:\n",
    "        for i in range(len(num_list)):\n",
    "            new.append(num_list[i][3])\n",
    "    else:\n",
    "        pass\n",
    "            \n",
    "    for i in range(len(new)-1):\n",
    "        for j in range(0,len(new)-1):\n",
    "            if new[j] < new[j + 1]:\n",
    "                temp = new[j]\n",
    "                new[j] = new[j + 1]\n",
    "                new[j + 1] = temp\n",
    "    print(new)\n",
    "    \n",
    "    \n",
    "    \n",
    "    for i in range(len(new)):\n",
    "        for j in range(len(new)):\n",
    "            if name == 'CSE110' and num_list[j][1] == new[i]:\n",
    "                print(num_list[j][0])\n",
    "            elif name == 'PHY111' and num_list[j][2] == new[i]:\n",
    "                print(num_list[j][0])\n",
    "            elif name == 'MAT110' and num_list[j][3] == new[i]:\n",
    "                print(num_list[j][0])\n",
    "\n",
    "   \n",
    "num_list =[['Farzad','95','87','91'] , ['Mahjabin','92','90','83'], ['Sadman','87','92','80'], ['Nakhla','85','94','90']]\n",
    "sort(num_list)"
   ]
  },
  {
   "cell_type": "markdown",
   "metadata": {
    "colab_type": "text",
    "id": "B0Rqbyi4HEl2"
   },
   "source": [
    "### Task 6\n",
    "\n",
    "Suppose you have a list named my_list. Your task is to sort the list and print the count of numbers that have changed their position. <br/>\n",
    "my_list = [4,2,3,1,6,5] <br/>\n",
    "Sorted list would be [1,2,3,4,5,6] where 4 numbers have changed their position.\n",
    "\n",
    "\n",
    "**Sample Output**<br/>\n",
    "4"
   ]
  },
  {
   "cell_type": "code",
   "execution_count": 3,
   "metadata": {
    "colab": {},
    "colab_type": "code",
    "id": "AMc8jAa7HEl2"
   },
   "outputs": [
    {
     "name": "stdout",
     "output_type": "stream",
     "text": [
      "4\n"
     ]
    }
   ],
   "source": [
    "def function_sort(my_list):\n",
    "    new_list=[4,2,3,1,6,5]\n",
    "    for i in range(len(my_list)-1,0,-1):\n",
    "        for j in range(i):\n",
    "            if my_list[j]>my_list[j+1]:\n",
    "                temp=my_list[j]\n",
    "                my_list[j]=my_list[j+1]\n",
    "                my_list[j+1]=temp\n",
    "                \n",
    "                \n",
    "                \n",
    "    count=0\n",
    "    for i in range(len(my_list)):\n",
    "        if new_list[i]==my_list[i]:\n",
    "            count=count+1\n",
    "    removeing=len(my_list)-count\n",
    "    print(removeing)\n",
    "\n",
    "\n",
    "my_list=[4,2,3,1,6,5]\n",
    "function_sort(my_list)"
   ]
  },
  {
   "cell_type": "markdown",
   "metadata": {
    "colab_type": "text",
    "id": "iIH5n0sJHEl5"
   },
   "source": [
    "### Task 7\n",
    "\n",
    "Write a python program that takes two lists from the user, merges the two lists, sorts the list, and find the median of the elements of the two lists.\n",
    "\n",
    "**Sample Input 1**<br/>\n",
    "list_one= [1,2,1,4] <br/>\n",
    "list_two= [5,4,1]\n",
    "\n",
    "\n",
    "**Sample Output 1**<br/>\n",
    "Sorted list= [1, 1, 1, 2, 4, 4, 5] <br/>\n",
    "Median = 2\n",
    "\n",
    "**Sample Input 2**<br/>\n",
    "list_one= [1,7,9,10] <br/>\n",
    "list_two= [2,7,6,5]\n",
    "\n",
    "\n",
    "**Sample Output 2**<br/>\n",
    "Sorted list=[1, 2, 5, 6, 7, 7, 9, 10] <br/>\n",
    "Median=6.5\n",
    "\n"
   ]
  },
  {
   "cell_type": "code",
   "execution_count": 1,
   "metadata": {
    "colab": {},
    "colab_type": "code",
    "id": "KsFxC7XbHEl6"
   },
   "outputs": [
    {
     "name": "stdout",
     "output_type": "stream",
     "text": [
      "Sorted list=  [1, 1, 1, 2, 4, 4, 5]\n",
      "Median= 2\n"
     ]
    }
   ],
   "source": [
    "list_one= [1,2,1,4]\n",
    "list_two= [5,4,1]\n",
    "\n",
    "my_list=[]\n",
    "for i in list_one:\n",
    "    my_list.append(i)\n",
    "for i in list_two:\n",
    "    my_list.append(i)\n",
    "    \n",
    "    \n",
    "    \n",
    "for i in range(len(my_list)-1,0,-1):\n",
    "    for j in range(i):\n",
    "        if my_list[j]>my_list[j+1]:\n",
    "            temp=my_list[j]\n",
    "            my_list[j]=my_list[j+1]\n",
    "            my_list[j+1]=temp\n",
    "\n",
    "            \n",
    "            \n",
    "            \n",
    "median=0\n",
    "for i in range(len(my_list)):\n",
    "    if len(my_list) % 2 != 0:\n",
    "        median = my_list[(len(my_list) // 2)]\n",
    "    elif len(my_list) % 2 == 0:\n",
    "        median=(my_list[len(my_list)//2]+my_list[(len(my_list)-1)//2])/2\n",
    "        \n",
    "print('Sorted list= ',my_list)\n",
    "print('Median=',median)"
   ]
  },
  {
   "cell_type": "markdown",
   "metadata": {
    "colab_type": "text",
    "id": "-XKiwBR1HEl8"
   },
   "source": [
    "### Task 8\n",
    "\n",
    "\n",
    "Write a python program that takes a list from user containing both positive and negative numbers. The program then finds two pairs of values whose summation is closest to zero.\n",
    "\n",
    "**Sample Input 1**<br/>\n",
    "list_one=[-10,15,2,4,-4,7,-8] \n",
    "\n",
    "\n",
    "**Sample Output 1**<br/>\n",
    "Two pairs which have the smallest sum = 4 and -4\n",
    "\n",
    "\n",
    "**Sample Input 2**<br/>\n",
    "list_one=[1,-8,4,-7,-20,26,70,-85]\n",
    "\n",
    "\n",
    "**Sample Output 2**<br/>\n",
    "Two pairs which have the smallest sum = 4 and -7"
   ]
  },
  {
   "cell_type": "code",
   "execution_count": 5,
   "metadata": {},
   "outputs": [
    {
     "name": "stdout",
     "output_type": "stream",
     "text": [
      "Two pairs which have the smallest sum =  70 and  -85\n"
     ]
    }
   ],
   "source": [
    "a_list = [1,-8,4,-7,-20,26,70,-85]\n",
    "\n",
    "index = 0\n",
    "count = 1\n",
    "addition = a_list[0] + a_list[1]\n",
    "for idx in range(0, len(a_list)- 1):\n",
    "    for right in range(idx + 1, len(a_list)):\n",
    "        sum = a_list[idx] + a_list[right]\n",
    "        if abs(addition) > abs(sum):\n",
    "            addition = sum\n",
    "            index = idx\n",
    "            count = right\n",
    "        \n",
    "\n",
    "print(\"Two pairs which have the smallest sum = \",a_list[idx], \"and \", a_list[right])"
   ]
  },
  {
   "cell_type": "code",
   "execution_count": null,
   "metadata": {},
   "outputs": [],
   "source": [
    "arr=[-10,15,2,4,-4,7,-8]\n",
    "min_l =0\n",
    "min_r=1\n",
    "min_sum=arr[0]+arr[1]\n",
    "for i in range(0,leng(arr1))"
   ]
  }
 ],
 "metadata": {
  "colab": {
   "collapsed_sections": [],
   "name": "Copy of CSE110 Assignment07.ipynb",
   "provenance": []
  },
  "kernelspec": {
   "display_name": "Python 3",
   "language": "python",
   "name": "python3"
  },
  "language_info": {
   "codemirror_mode": {
    "name": "ipython",
    "version": 3
   },
   "file_extension": ".py",
   "mimetype": "text/x-python",
   "name": "python",
   "nbconvert_exporter": "python",
   "pygments_lexer": "ipython3",
   "version": "3.7.6"
  }
 },
 "nbformat": 4,
 "nbformat_minor": 1
}
